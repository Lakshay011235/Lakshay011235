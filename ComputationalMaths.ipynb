{
  "nbformat": 4,
  "nbformat_minor": 0,
  "metadata": {
    "colab": {
      "provenance": [],
      "collapsed_sections": [],
      "authorship_tag": "ABX9TyM27mxcwPGMxDIUuH8lkoMC",
      "include_colab_link": true
    },
    "kernelspec": {
      "name": "python3",
      "display_name": "Python 3"
    },
    "language_info": {
      "name": "python"
    }
  },
  "cells": [
    {
      "cell_type": "markdown",
      "metadata": {
        "id": "view-in-github",
        "colab_type": "text"
      },
      "source": [
        "<a href=\"https://colab.research.google.com/github/Lakshay011235/Lakshay011235/blob/main/ComputationalMaths.ipynb\" target=\"_parent\"><img src=\"https://colab.research.google.com/assets/colab-badge.svg\" alt=\"Open In Colab\"/></a>"
      ]
    },
    {
      "cell_type": "code",
      "execution_count": null,
      "metadata": {
        "id": "x4Sb3Z7TG4ij"
      },
      "outputs": [],
      "source": [
        "import math\n",
        "def f(x):\n",
        "    return x*math.sin(x) - 1\n",
        "(i,a,b) = (1,0.0,2.0)                                             \n",
        "while i<20:\n",
        "    #temp = (a+b)/2  Bisection\n",
        "    temp = (a*f(b) - b*f(a))/(f(b)-f(a))\n",
        "    print(i,\"\\t\",  round(a,100), \"\\t\\t\\t\",  round(b,100) , \"\\t\\t\\t\",  round(temp,100) , \"\\t\\t\\t\", round(f(temp),100))\n",
        "    i += 1\n",
        "    if f(temp) > 0 and f(temp) < f(b):\n",
        "        b = temp\n",
        "    elif f(temp) < 0 and f(temp) > f(a):\n",
        "        a = temp\n",
        "    else:\n",
        "        print(a)"
      ]
    }
  ]
}